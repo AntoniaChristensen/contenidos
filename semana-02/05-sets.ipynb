{
 "cells": [
  {
   "cell_type": "markdown",
   "metadata": {},
   "source": [
    "<p>\n",
    "<font size='5' face='Georgia, Arial'>IIC-2233 Apunte Programación Avanzada</font><br>\n",
    "<font size='1'>&copy; 2015 Karim Pichara - Christian Pieringer. Todos los derechos reservados.</font>\n",
    "</p>"
   ]
  },
  {
   "cell_type": "markdown",
   "metadata": {},
   "source": [
    "## Sets\n",
    "\n",
    "Los _sets_ son un contenedor **mutable**, **no _hasheable_**, y **no ordenado** que no almacena elementos repetidos. Tienen un comportamiento similar a los [conjuntos matemáticos](https://es.wikipedia.org/wiki/Conjunto). Los _sets_ pueden tener cualquier objeto _hasheable_, los mismos que pueden ser _key_ en un diccionario. La razón de esto último es que los _sets_ también utilizan _tablas de hash_ para almacenar los datos.\n",
    "\n",
    "Los _sets_ están diseñados para revisar si un elemento se encuentra en él o no en forma eficiente. Revisar si un elemento está o no está toma tiempo constante, es decir, el tiempo que se demora esta operación no depende de cuán grande es el conjunto en cuestión.\n",
    "\n",
    "En Python, se puede crear un _set_ vacío con `set()`:"
   ]
  },
  {
   "cell_type": "code",
   "execution_count": 1,
   "metadata": {},
   "outputs": [
    {
     "name": "stdout",
     "output_type": "stream",
     "text": [
      "set()\n"
     ]
    }
   ],
   "source": [
    "conjunto_vacio = set()\n",
    "print(conjunto_vacio)"
   ]
  },
  {
   "cell_type": "markdown",
   "metadata": {},
   "source": [
    "También es posible crear un conjunto a partir de una lista de elementos. Notar que el _set_ creado no tendrá elementos repetidos, y tampoco respetará el orden original de los elementos."
   ]
  },
  {
   "cell_type": "code",
   "execution_count": 2,
   "metadata": {},
   "outputs": [
    {
     "name": "stdout",
     "output_type": "stream",
     "text": [
      "{'Dream Theater', 'Daddy Yankee', 'Sting', 'Mon Laferte', 'Olivia Newton-John'}\n"
     ]
    }
   ],
   "source": [
    "lista_artistas = [\"Olivia Newton-John\", \"Daddy Yankee\", \"Sting\", \"Dream Theater\", \"Mon Laferte\", \"Sting\"]\n",
    "conjunto_artistas = set(lista_artistas)\n",
    "print(conjunto_artistas)"
   ]
  },
  {
   "cell_type": "markdown",
   "metadata": {},
   "source": [
    "Podemos también construir un _set_ directamente usando llaves, donde los elementos están separados por coma:"
   ]
  },
  {
   "cell_type": "code",
   "execution_count": 3,
   "metadata": {},
   "outputs": [
    {
     "name": "stdout",
     "output_type": "stream",
     "text": [
      "{'Dream Theater', 'Daddy Yankee', 'Sting', 'Mon Laferte', 'Olivia Newton-John'}\n"
     ]
    }
   ],
   "source": [
    "conjunto_artistas = {\"Olivia Newton-John\", \"Daddy Yankee\", \"Sting\", \"Dream Theater\", \"Mon Laferte\"}\n",
    "print(conjunto_artistas)"
   ]
  },
  {
   "cell_type": "markdown",
   "metadata": {},
   "source": [
    "La notación con llaves no puede ser utilizada para crear un _set_ vacío. En este caso, se creará un diccionario:"
   ]
  },
  {
   "cell_type": "code",
   "execution_count": 4,
   "metadata": {},
   "outputs": [
    {
     "name": "stdout",
     "output_type": "stream",
     "text": [
      "<class 'dict'>\n"
     ]
    }
   ],
   "source": [
    "intento_de_conjunto_vacio = {}\n",
    "print(type(intento_de_conjunto_vacio))"
   ]
  },
  {
   "cell_type": "markdown",
   "metadata": {},
   "source": [
    "A diferencia de otros lenguajes como Java o C#, los tipos de los elementos de un _set_ pueden ser heterogéneos:"
   ]
  },
  {
   "cell_type": "code",
   "execution_count": 5,
   "metadata": {},
   "outputs": [
    {
     "name": "stdout",
     "output_type": "stream",
     "text": [
      "{'cinco', 3, 5, 'seis', 'cuatro'}\n"
     ]
    }
   ],
   "source": [
    "conjunto_heterogeneo = {\"cinco\", 3, \"cinco\", 3, \"cuatro\", 5, \"seis\"}\n",
    "print(conjunto_heterogeneo)"
   ]
  },
  {
   "cell_type": "markdown",
   "metadata": {},
   "source": [
    "### Operaciones\n",
    "\n",
    "En Python, los _sets_ son capaces de realizar varias operaciones, que incluyen algunas típicas de otros tipos de colecciones, y otras análogas a las que se hacen con conjuntos matemáticos.\n",
    "\n",
    "Es importante mencionar que los _sets_ no soportan ningún tipo de acceso indexado, pues no tienen orden. Por ejemplo, el siguiente código arroja un error:"
   ]
  },
  {
   "cell_type": "code",
   "execution_count": 19,
   "metadata": {},
   "outputs": [
    {
     "ename": "TypeError",
     "evalue": "'set' object does not support indexing",
     "output_type": "error",
     "traceback": [
      "\u001b[0;31m---------------------------------------------------------------------------\u001b[0m",
      "\u001b[0;31mTypeError\u001b[0m                                 Traceback (most recent call last)",
      "\u001b[0;32m<ipython-input-19-5162224675e5>\u001b[0m in \u001b[0;36m<module>\u001b[0;34m()\u001b[0m\n\u001b[1;32m      1\u001b[0m \u001b[0mconjunto_artistas\u001b[0m \u001b[0;34m=\u001b[0m \u001b[0;34m{\u001b[0m\u001b[0;34m\"Olivia Newton-John\"\u001b[0m\u001b[0;34m,\u001b[0m \u001b[0;34m\"Daddy Yankee\"\u001b[0m\u001b[0;34m,\u001b[0m \u001b[0;34m\"Sting\"\u001b[0m\u001b[0;34m,\u001b[0m \u001b[0;34m\"Dream Theater\"\u001b[0m\u001b[0;34m,\u001b[0m \u001b[0;34m\"Mon Laferte\"\u001b[0m\u001b[0;34m}\u001b[0m\u001b[0;34m\u001b[0m\u001b[0m\n\u001b[0;32m----> 2\u001b[0;31m \u001b[0mconjunto_artistas\u001b[0m\u001b[0;34m[\u001b[0m\u001b[0;36m0\u001b[0m\u001b[0;34m]\u001b[0m\u001b[0;34m\u001b[0m\u001b[0m\n\u001b[0m",
      "\u001b[0;31mTypeError\u001b[0m: 'set' object does not support indexing"
     ]
    }
   ],
   "source": [
    "conjunto_artistas = {\"Olivia Newton-John\", \"Daddy Yankee\", \"Sting\", \"Dream Theater\", \"Mon Laferte\"}\n",
    "conjunto_artistas[0]"
   ]
  },
  {
   "cell_type": "markdown",
   "metadata": {},
   "source": [
    "Ahora revisaremos las operaciones más importantes que soportan los _sets_:"
   ]
  },
  {
   "cell_type": "markdown",
   "metadata": {},
   "source": [
    "#### Revisar la cantidad de elementos\n",
    "\n",
    "Tal y como con las otras estructuras, esto se hace con la función `len`"
   ]
  },
  {
   "cell_type": "code",
   "execution_count": 20,
   "metadata": {},
   "outputs": [
    {
     "data": {
      "text/plain": [
       "5"
      ]
     },
     "execution_count": 20,
     "metadata": {},
     "output_type": "execute_result"
    }
   ],
   "source": [
    "len(conjunto_artistas)"
   ]
  },
  {
   "cell_type": "markdown",
   "metadata": {},
   "source": [
    "#### _Add_\n",
    "\n",
    "A un _set_ se le pueden añadir elementos después de se creado con el método `add`."
   ]
  },
  {
   "cell_type": "code",
   "execution_count": 21,
   "metadata": {},
   "outputs": [
    {
     "name": "stdout",
     "output_type": "stream",
     "text": [
      "{'Dream Theater', 'Daddy Yankee', 'Sting', 'Mon Laferte', 'Taylor Swift', 'Olivia Newton-John'}\n"
     ]
    }
   ],
   "source": [
    "conjunto_artistas.add(\"Taylor Swift\")\n",
    "print(conjunto_artistas)"
   ]
  },
  {
   "cell_type": "markdown",
   "metadata": {},
   "source": [
    "Si se intenta agregar un elemento que ya estaba, nada ocurre:"
   ]
  },
  {
   "cell_type": "code",
   "execution_count": 22,
   "metadata": {},
   "outputs": [
    {
     "name": "stdout",
     "output_type": "stream",
     "text": [
      "{'Dream Theater', 'Daddy Yankee', 'Sting', 'Mon Laferte', 'Taylor Swift', 'Olivia Newton-John'}\n"
     ]
    }
   ],
   "source": [
    "conjunto_artistas.add(\"Sting\")\n",
    "print(conjunto_artistas)"
   ]
  },
  {
   "cell_type": "markdown",
   "metadata": {},
   "source": [
    "#### Remove\n",
    "\n",
    "Se puede sacar un elemento del _set_ con el método `remove`."
   ]
  },
  {
   "cell_type": "code",
   "execution_count": 23,
   "metadata": {},
   "outputs": [
    {
     "name": "stdout",
     "output_type": "stream",
     "text": [
      "{'Dream Theater', 'Sting', 'Mon Laferte', 'Taylor Swift', 'Olivia Newton-John'}\n"
     ]
    }
   ],
   "source": [
    "conjunto_artistas.remove(\"Daddy Yankee\")\n",
    "print(conjunto_artistas)"
   ]
  },
  {
   "cell_type": "markdown",
   "metadata": {},
   "source": [
    "Esta operación resulta en un error si se intenta eliminar algo que no estaba previamente en el _set_:"
   ]
  },
  {
   "cell_type": "code",
   "execution_count": 24,
   "metadata": {},
   "outputs": [
    {
     "ename": "KeyError",
     "evalue": "'Sia'",
     "output_type": "error",
     "traceback": [
      "\u001b[0;31m---------------------------------------------------------------------------\u001b[0m",
      "\u001b[0;31mKeyError\u001b[0m                                  Traceback (most recent call last)",
      "\u001b[0;32m<ipython-input-24-92ff0541fd56>\u001b[0m in \u001b[0;36m<module>\u001b[0;34m()\u001b[0m\n\u001b[0;32m----> 1\u001b[0;31m \u001b[0mconjunto_artistas\u001b[0m\u001b[0;34m.\u001b[0m\u001b[0mremove\u001b[0m\u001b[0;34m(\u001b[0m\u001b[0;34m\"Sia\"\u001b[0m\u001b[0;34m)\u001b[0m\u001b[0;34m\u001b[0m\u001b[0m\n\u001b[0m",
      "\u001b[0;31mKeyError\u001b[0m: 'Sia'"
     ]
    }
   ],
   "source": [
    "conjunto_artistas.remove(\"Sia\")"
   ]
  },
  {
   "cell_type": "markdown",
   "metadata": {},
   "source": [
    "#### Discard\n",
    "\n",
    "Es una operación similar al _remove_, pero que no lanza un error en caso de que el elemento no haya estado en el conjunto:"
   ]
  },
  {
   "cell_type": "code",
   "execution_count": 25,
   "metadata": {},
   "outputs": [
    {
     "name": "stdout",
     "output_type": "stream",
     "text": [
      "{'Sting', 'Mon Laferte', 'Taylor Swift', 'Olivia Newton-John'}\n"
     ]
    }
   ],
   "source": [
    "conjunto_artistas.discard(\"Dream Theater\")\n",
    "print(conjunto_artistas)"
   ]
  },
  {
   "cell_type": "code",
   "execution_count": 26,
   "metadata": {},
   "outputs": [
    {
     "name": "stdout",
     "output_type": "stream",
     "text": [
      "{'Sting', 'Mon Laferte', 'Taylor Swift', 'Olivia Newton-John'}\n"
     ]
    }
   ],
   "source": [
    "conjunto_artistas.discard(\"Sia\")\n",
    "print(conjunto_artistas)"
   ]
  },
  {
   "cell_type": "markdown",
   "metadata": {},
   "source": [
    "#### Iterar con un `for`\n",
    "\n",
    "Se puede iterar por los elementos de un conjunto con un `for`. Recordar que esto no se hará en ningún orden en particular, puesto que los _sets_ no son estructuras ordenadas:"
   ]
  },
  {
   "cell_type": "code",
   "execution_count": 27,
   "metadata": {},
   "outputs": [
    {
     "name": "stdout",
     "output_type": "stream",
     "text": [
      "Por favor, saluden a Sting!\n",
      "Por favor, saluden a Mon Laferte!\n",
      "Por favor, saluden a Taylor Swift!\n",
      "Por favor, saluden a Olivia Newton-John!\n"
     ]
    }
   ],
   "source": [
    "for artista in conjunto_artistas:\n",
    "    print(\"Por favor, saluden a {}!\".format(artista))"
   ]
  },
  {
   "cell_type": "markdown",
   "metadata": {},
   "source": [
    "#### Verificar si un elemento pertenece al _set_\n",
    "\n",
    "Podemos verificar si un elemento está en el _set_ con la sentencia `in`."
   ]
  },
  {
   "cell_type": "code",
   "execution_count": 28,
   "metadata": {},
   "outputs": [
    {
     "data": {
      "text/plain": [
       "False"
      ]
     },
     "execution_count": 28,
     "metadata": {},
     "output_type": "execute_result"
    }
   ],
   "source": [
    "\"Natalia Lafourcade\" in conjunto_artistas"
   ]
  },
  {
   "cell_type": "code",
   "execution_count": 29,
   "metadata": {},
   "outputs": [
    {
     "data": {
      "text/plain": [
       "True"
      ]
     },
     "execution_count": 29,
     "metadata": {},
     "output_type": "execute_result"
    }
   ],
   "source": [
    "\"Sting\" in conjunto_artistas"
   ]
  },
  {
   "cell_type": "markdown",
   "metadata": {},
   "source": [
    "En los _sets_, esta operación es muy eficiente y toma un tiempo que no depende del tamaño del conjunto. \n",
    "\n",
    "En el caso de las listas esto no es así. Para verificar si un elemento está o no en una lista, internamente se debe recorrer toda la lista hasta encontrarlo, o hasta llegar al final. Esto significa que el tiempo crece a medida que el tamaño de la lista aumenta.\n",
    "\n",
    "Podemos comprobar estas diferencias en tiempo con un ejemplo muy grande:"
   ]
  },
  {
   "cell_type": "code",
   "execution_count": 30,
   "metadata": {},
   "outputs": [
    {
     "name": "stdout",
     "output_type": "stream",
     "text": [
      "Para el set, ver si 5000000 estaba en él se demoró 0.00011920928955078125 segundos\n",
      "Para la lista, ver si 5000000 estaba en ella se demoró 0.06589913368225098 segundos\n"
     ]
    }
   ],
   "source": [
    "from time import time\n",
    "\n",
    "ELEMENTOS = 10 ** 7\n",
    "ELEMENTO_COMPROBAR = ELEMENTOS // 2\n",
    "\n",
    "lista_gigante = list(range(ELEMENTOS))\n",
    "set_gigante = set(range(ELEMENTOS))\n",
    "\n",
    "time_base = time()\n",
    "ELEMENTO_COMPROBAR in set_gigante\n",
    "print(\"Para el set, ver si {} estaba en él se demoró {} segundos\".format(ELEMENTO_COMPROBAR, time() - time_base))\n",
    "\n",
    "time_base = time()\n",
    "ELEMENTO_COMPROBAR in lista_gigante\n",
    "print(\"Para la lista, ver si {} estaba en ella se demoró {} segundos\".format(ELEMENTO_COMPROBAR, time() - time_base))"
   ]
  },
  {
   "cell_type": "markdown",
   "metadata": {},
   "source": [
    "#### Unión de conjuntos\n",
    "\n",
    "![](https://upload.wikimedia.org/wikipedia/commons/3/32/SetUnion.svg)\n",
    "\n",
    "Sirve para obtener un nuevo conjunto que tenga todos los elementos de los conjuntos que se unen. Esta operación no altera ninguno de los _sets_ originales. Se utiliza el operador `|`."
   ]
  },
  {
   "cell_type": "code",
   "execution_count": 32,
   "metadata": {},
   "outputs": [
    {
     "name": "stdout",
     "output_type": "stream",
     "text": [
      "{0, 1, 2, 3, 4, 5}\n"
     ]
    }
   ],
   "source": [
    "set_a = {0, 1, 2, 3}\n",
    "set_b = {2, 3, 4, 5}\n",
    "set_union = set_a | set_b\n",
    "print(set_union)"
   ]
  },
  {
   "cell_type": "markdown",
   "metadata": {},
   "source": [
    "También se puede ocupar el método `union`. Esta operación no altera ninguno de los _sets_ originales."
   ]
  },
  {
   "cell_type": "code",
   "execution_count": 40,
   "metadata": {},
   "outputs": [
    {
     "name": "stdout",
     "output_type": "stream",
     "text": [
      "{0, 1, 2, 3, 4, 5}\n"
     ]
    }
   ],
   "source": [
    "set_a = {0, 1, 2, 3}\n",
    "set_b = {2, 3, 4, 5}\n",
    "set_union = set_a.union(set_b)\n",
    "print(set_union)"
   ]
  },
  {
   "cell_type": "markdown",
   "metadata": {},
   "source": [
    "#### Intersección de conjuntos\n",
    "\n",
    "![](https://upload.wikimedia.org/wikipedia/commons/c/cb/SetIntersection.svg)\n",
    "\n",
    "Sirve para obtener un nuevo conjunto que tenga los elementos que están en **todos** los conjuntos que se intersectan. Esta operación no altera ninguno de los _sets_ originales. Se utiliza el operador `&`."
   ]
  },
  {
   "cell_type": "code",
   "execution_count": 43,
   "metadata": {},
   "outputs": [
    {
     "name": "stdout",
     "output_type": "stream",
     "text": [
      "{2, 3}\n"
     ]
    }
   ],
   "source": [
    "set_a = {0, 1, 2, 3}\n",
    "set_b = {2, 3, 4, 5}\n",
    "set_intersection = set_a & set_b\n",
    "print(set_intersection)"
   ]
  },
  {
   "cell_type": "markdown",
   "metadata": {},
   "source": [
    "También se puede ocupar el método `intersection`. Esta operación no altera ninguno de los _sets_ originales."
   ]
  },
  {
   "cell_type": "code",
   "execution_count": 44,
   "metadata": {},
   "outputs": [
    {
     "name": "stdout",
     "output_type": "stream",
     "text": [
      "{2, 3}\n"
     ]
    }
   ],
   "source": [
    "set_a = {0, 1, 2, 3}\n",
    "set_b = {2, 3, 4, 5}\n",
    "set_intersection = set_a.intersection(set_b)\n",
    "print(set_intersection)"
   ]
  },
  {
   "cell_type": "markdown",
   "metadata": {},
   "source": [
    "#### Diferencia de conjuntos\n",
    "\n",
    "![](https://upload.wikimedia.org/wikipedia/commons/e/ec/SetDifferenceA.svg)\n",
    "\n",
    "Sirve para obtener un nuevo conjunto que tenga los elementos que están en un conjunto, pero que no estén en otro. Esta operación no altera ninguno de los _sets_ originales. Se utiliza el operador `-`. Notar que el resultado de esta operación depende del orden de los factores."
   ]
  },
  {
   "cell_type": "code",
   "execution_count": 45,
   "metadata": {
    "scrolled": true
   },
   "outputs": [
    {
     "name": "stdout",
     "output_type": "stream",
     "text": [
      "{0, 1}\n",
      "{4, 5}\n"
     ]
    }
   ],
   "source": [
    "set_a = {0, 1, 2, 3}\n",
    "set_b = {2, 3, 4, 5}\n",
    "set_difference_a_b = set_a - set_b\n",
    "set_difference_b_a = set_b - set_a\n",
    "print(set_difference_a_b)\n",
    "print(set_difference_b_a)"
   ]
  },
  {
   "cell_type": "markdown",
   "metadata": {},
   "source": [
    "También se puede ocupar el método `difference`. Esta operación no altera ninguno de los _sets_ originales."
   ]
  },
  {
   "cell_type": "code",
   "execution_count": 47,
   "metadata": {},
   "outputs": [
    {
     "name": "stdout",
     "output_type": "stream",
     "text": [
      "{0, 1}\n",
      "{4, 5}\n"
     ]
    }
   ],
   "source": [
    "set_a = {0, 1, 2, 3}\n",
    "set_b = {2, 3, 4, 5}\n",
    "set_difference_a_b = set_a.difference(set_b)\n",
    "set_difference_b_a = set_b.difference(set_a)\n",
    "print(set_difference_a_b)\n",
    "print(set_difference_b_a)"
   ]
  },
  {
   "cell_type": "markdown",
   "metadata": {},
   "source": [
    "#### Diferencia simétrica de conjuntos\n",
    "\n",
    "![](https://upload.wikimedia.org/wikipedia/commons/f/f2/SetSymmetricDifference.svg)\n",
    "\n",
    "Sirve para obtener un nuevo conjunto de objetos que están en un conjunto o en el otro pero no en ambos. Esta operación no altera ninguno de los _sets_ originales. Se ocupa el operador `^`. "
   ]
  },
  {
   "cell_type": "code",
   "execution_count": 48,
   "metadata": {},
   "outputs": [
    {
     "name": "stdout",
     "output_type": "stream",
     "text": [
      "{0, 1, 4, 5}\n"
     ]
    }
   ],
   "source": [
    "set_a = {0, 1, 2, 3}\n",
    "set_b = {2, 3, 4, 5}\n",
    "set_sim_difference = set_a ^ set_b\n",
    "print(set_sim_difference)"
   ]
  },
  {
   "cell_type": "markdown",
   "metadata": {},
   "source": [
    "También se puede ocupar el método `symmetric_difference`. Esta operación no altera ninguno de los _sets_ originales."
   ]
  },
  {
   "cell_type": "code",
   "execution_count": 53,
   "metadata": {},
   "outputs": [
    {
     "name": "stdout",
     "output_type": "stream",
     "text": [
      "{0, 1, 4, 5}\n"
     ]
    }
   ],
   "source": [
    "set_a = {0, 1, 2, 3}\n",
    "set_b = {2, 3, 4, 5}\n",
    "set_sim_difference = set_a.symmetric_difference(set_b)\n",
    "print(set_sim_difference)"
   ]
  },
  {
   "cell_type": "markdown",
   "metadata": {},
   "source": [
    "#### Comparar conjuntos\n",
    "\n",
    "Podemos saber rápidamente si un conjunto es subconjunto, superconjunto, o son iguales a otro. \n",
    "\n",
    "Un conjunto `A` es subconjunto de otro `B` si todos los elementos que están en `A` están también en `B`. Esto incluye el caso en que sean iguales. Si no queremos incluir el caso de la igualdad, se habla de \"subconjunto propio\".\n",
    "\n",
    "Al revés, un `A` es superconjunto de otro `B` si todos los elementos que están en `B` también están en `B`. Esto también incluye el caso en que sean iguales. Si no queremos incluir el caso de la igualdad, se habla de \"superconjunto propio\"."
   ]
  },
  {
   "cell_type": "code",
   "execution_count": 57,
   "metadata": {},
   "outputs": [
    {
     "name": "stdout",
     "output_type": "stream",
     "text": [
      "artistas_lollapalooza es a artistas_favoritos:\n",
      "Superset: True\n",
      "Subset: False\n",
      "Iguales: False\n",
      "--------------------\n",
      "artistas_favoritos es a artistas_lollapalooza:\n",
      "Superset: False\n",
      "Subset: True\n",
      "Iguales: False\n"
     ]
    }
   ],
   "source": [
    "artistas_lollapalooza = {\"Mac Demarco\", \"The Killers\", \"Lana del Rey\", \"Camila Cabello\"}\n",
    "artistas_favoritos = {\"Mac Demarco\", \"Lana del Rey\"}\n",
    "\n",
    "\n",
    "print(\"artistas_lollapalooza es a artistas_favoritos:\")\n",
    "print(\"Superset: {}\".format(artistas_lollapalooza >= artistas_favoritos))\n",
    "print(\"Subset: {}\".format(artistas_lollapalooza <= artistas_favoritos))\n",
    "print(\"Iguales: {}\".format(artistas_lollapalooza == artistas_favoritos))\n",
    "\n",
    "print(\"-\"*20)\n",
    "\n",
    "print(\"artistas_favoritos es a artistas_lollapalooza:\")\n",
    "print(\"Superset: {}\".format(artistas_favoritos >= artistas_lollapalooza))\n",
    "print(\"Subset: {}\".format(artistas_favoritos <= artistas_lollapalooza))\n",
    "print(\"Iguales: {}\".format(artistas_favoritos == artistas_lollapalooza))"
   ]
  },
  {
   "cell_type": "code",
   "execution_count": 58,
   "metadata": {},
   "outputs": [
    {
     "name": "stdout",
     "output_type": "stream",
     "text": [
      "artistas_lollapalooza es a artistas_favoritos:\n",
      "Superset: True\n",
      "Subset: False\n",
      "--------------------\n",
      "artistas_favoritos es a artistas_lollapalooza:\n",
      "Superset: False\n",
      "Subset: True\n"
     ]
    }
   ],
   "source": [
    "artistas_lollapalooza = {\"Mac Demarco\", \"The Killers\", \"Lana del Rey\", \"Camila Cabello\"}\n",
    "artistas_favoritos = {\"Mac Demarco\", \"Lana del Rey\"}\n",
    "\n",
    "\n",
    "print(\"artistas_lollapalooza es a artistas_favoritos:\")\n",
    "print(\"Superset: {}\".format(artistas_lollapalooza.issuperset(artistas_favoritos)))\n",
    "print(\"Subset: {}\".format(artistas_lollapalooza.issubset(artistas_favoritos)))\n",
    "\n",
    "print(\"-\"*20)\n",
    "\n",
    "print(\"artistas_favoritos es a artistas_lollapalooza:\")\n",
    "print(\"Superset: {}\".format(artistas_favoritos.issuperset(artistas_lollapalooza)))\n",
    "print(\"Subset: {}\".format(artistas_favoritos.issubset(artistas_lollapalooza)))"
   ]
  },
  {
   "cell_type": "markdown",
   "metadata": {},
   "source": [
    "### Ejemplo de eliminación de duplicados\n",
    "\n",
    "Podemos usar _sets_ para eliminar duplicados de una lista:"
   ]
  },
  {
   "cell_type": "code",
   "execution_count": 60,
   "metadata": {},
   "outputs": [],
   "source": [
    "lista = ['A', 'B', 'A', 'D', 'F', 'X', 'X', 'X', 'Z', 'Z', 'Y']\n",
    "lista_set = set(lista)"
   ]
  },
  {
   "cell_type": "markdown",
   "metadata": {},
   "source": [
    "Es posible crear una lista a partir de un _set_:"
   ]
  },
  {
   "cell_type": "code",
   "execution_count": 61,
   "metadata": {},
   "outputs": [
    {
     "name": "stdout",
     "output_type": "stream",
     "text": [
      "['Z', 'X', 'B', 'A', 'F', 'D', 'Y']\n"
     ]
    }
   ],
   "source": [
    "lista = list(lista_set)\n",
    "print(lista)"
   ]
  },
  {
   "cell_type": "markdown",
   "metadata": {},
   "source": [
    "Podemos ordenar la lista si es necesario:"
   ]
  },
  {
   "cell_type": "code",
   "execution_count": 62,
   "metadata": {},
   "outputs": [
    {
     "name": "stdout",
     "output_type": "stream",
     "text": [
      "['A', 'B', 'D', 'F', 'X', 'Y', 'Z']\n"
     ]
    }
   ],
   "source": [
    "lista.sort()\n",
    "print(lista)"
   ]
  }
 ],
 "metadata": {
  "anaconda-cloud": {},
  "kernelspec": {
   "display_name": "Python 3",
   "language": "python",
   "name": "python3"
  },
  "language_info": {
   "codemirror_mode": {
    "name": "ipython",
    "version": 3
   },
   "file_extension": ".py",
   "mimetype": "text/x-python",
   "name": "python",
   "nbconvert_exporter": "python",
   "pygments_lexer": "ipython3",
   "version": "3.6.4"
  }
 },
 "nbformat": 4,
 "nbformat_minor": 1
}
