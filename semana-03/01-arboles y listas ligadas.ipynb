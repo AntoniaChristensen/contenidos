{
 "cells": [
  {
   "cell_type": "markdown",
   "metadata": {},
   "source": [
    "<p>\n",
    "<font size='5' face='Georgia, Arial'>IIC-2233 Apunte Programación Avanzada</font><br>\n",
    "<font size='1'>&copy; 2015-2016 Karim Pichara - Christian Pieringer <sup>1</sup>. Todos los derechos reservados.</font>\n",
    "</p>"
   ]
  },
  {
   "cell_type": "markdown",
   "metadata": {},
   "source": [
    "Esta semana estudiaremos un conjunto de estructuras de datos más avanzadas que nos permitirán representar no solamente agrupaciones de datos, sino también las relaciones entre esos datos. Estas estructuras se basan en una unidad base llamada **nodo**. Un **nodo** representa a un ítem y sus elementos, y mantiene una o más referencias con sus nodos vecinos con la finalidad de representar estructuras de datos más complejas."
   ]
  },
  {
   "cell_type": "markdown",
   "metadata": {},
   "source": [
    "# Árboles\n",
    "\n",
    "Un **árbol** corresponde a una estructura de datos _no lineal_. Un árbol es un conjunto de nodos que sigue una estructura <b>jerárquica</b>. A diferencia de las estructuras basadas en arreglos (lineales) como colas y pilas, en los árboles los elementos quedan ordenados de acuerdo a una relación _padre-hijo_. Cada elemento en el árbol se denomina <b>nodo</b>. El primer nodo en el árbol recibe el nombre de <b>nodo raíz</b> (_root_). Cada nodo del árbol, salvo el nodo raíz, tiene un <i><b>padre</b></i> (_parent_) y cero o más nodos <i><b>hijos</b></i> (_children_). Los nodos provenientes de un mismo padre se denominan nodos <b>hermanos</b> y los nodos en la línea de descendencia del nodo padre se conocen como **ancestros**. Los nodos que no poseen hijos se denominan nodos **hoja**."
   ]
  },
  {
   "cell_type": "markdown",
   "metadata": {},
   "source": [
    "Formalmente, un árbol $T$ que ordena sus elementos bajo una relación <i>padre-hijo</i> tiene las siguientes propiedades:\n",
    "\n",
    "- Si $T$ no está vacío, entonces tiene un único nodo <i>raíz</i> que no tiene padres\n",
    "- Cada nodo <i>c</i> en $T$ distinto de la raíz, tiene un único padre $p$, y todos los nodos $c$ que tienen por padre a $p$ son hijos de $p$.\n",
    "\n",
    "En la figura a continuación, el árbol mostrado tiene como nodo raíz a \"Reino Animal\". Este nodo tiene dos nodos hijos: \"Vertebrados\" e \"Invertebrados\". Por otro lado, el nodo \"Gusanos\" tiene como nodo padre al nodo \"Invertebrados\", y tiene cero nodos hijos.\n",
    "\n",
    "![](img/trees-example.png)"
   ]
  },
  {
   "cell_type": "markdown",
   "metadata": {},
   "source": [
    "<p>\n",
    "Una <b>arista</b> corresponde a una conexión directa entre un par de nodos $(u,v)$. Cada nodo tiene una arista que lo conecta con su padre, y una arista que lo conecta con cada uno de sus hijos. Una secuencia ordenada de nodos consecutivos unidos por un vértice a lo largo de un árbol $T$ forman un <b>camino</b>. En la figura anterior, los nodos <i>Peces</i> y <i>Oseos</i> posee una arista, y están en el camino <i>Reino Animal-Vertebrados-Peces-Oseos</i>. Los nodos que no tienen hijos se conocen como nodos <b>hoja</b> (_leaf node_). Todos los nodos que no son hoja ni raíz se denominan **nodos interiores**.\n",
    "</p>\n",
    "\n",
    "<p>\n",
    "La <b>profundidad</b> (_depth_) de un nodo $u$ corresponde el número de arista que debe recorrer para llegar a la raíz.La <b>altura</b> (_height_) del árbol corresponde al máximo de las profundidades alcanzadas por los nodos hoja. Por ejemplo en la figura anterior, la profundidad del nodo Peces es 2, y la altura del árbol es 3.\n",
    "</p>"
   ]
  },
  {
   "cell_type": "markdown",
   "metadata": {},
   "source": [
    "## Árboles de Estructura Enlazada \n",
    "\n",
    "Una forma de representar un árbol consiste en modelar cada nodo como un objeto con los atributos: `id_nodo`, `id_padre`, `hijos` y el `valor` almacenado en ese nodo. Cada nodo es la raíz de un sub-arból, y podemos crear el árbol completo agregando nodos incrementalmente."
   ]
  },
  {
   "cell_type": "code",
   "execution_count": 27,
   "metadata": {
    "collapsed": true
   },
   "outputs": [],
   "source": [
    "class Arbol:\n",
    "    # Creamos la estructura básica del árbol. Los nodos hijos pueden ser guardados en alguna \n",
    "    # estructura como listas o diccionarios. \n",
    "    # En este ejemplo, los nodos hijos serán guardados en un diccionario.\n",
    "    \n",
    "    def __init__(self, id_nodo, valor=None, id_padre=None):\n",
    "        self.id_nodo = id_nodo\n",
    "        self.id_padre = id_padre\n",
    "        self.valor = valor\n",
    "        self.hijos = {}       \n",
    "    \n",
    "    def agregar_nodo(self, id_nodo, valor=None, id_padre=None):\n",
    "        # Cada vez que agregamos un nodo verificamos primero si corresponde al nodo padre \n",
    "        # donde queremos agregar el nuevo nodo. Si no es el nodo, buscamos recursivamente \n",
    "        # a través de todos los nodos existentes hasta que encontremos el nodo correspondiente.\n",
    "        \n",
    "        if self.id_nodo == id_padre:\n",
    "            # Si el nodo es el nodo padre, entonces actualizamos el diccionario \n",
    "            # con los hijos\n",
    "            \n",
    "            self.hijos.update({id_nodo: Arbol(id_nodo, valor, id_padre)})\n",
    "            \n",
    "        else:\n",
    "            # Si no, recursivamente seguimos buscando en el árbol el nodo padre\n",
    "            \n",
    "            for hijo in self.hijos.values():\n",
    "                hijo.agregar_nodo(id_nodo, valor, id_padre)\n",
    "                \n",
    "    def obtener_nodo(self, id_nodo):\n",
    "        # recursivamente obtenemos el nodo siempre y cuando exista la posicion.\n",
    "        \n",
    "        if self.id_nodo == id_nodo:\n",
    "            return self\n",
    "        else:\n",
    "            for hijo in self.hijos.values():\n",
    "                nodo = hijo.obtener_nodo(id_nodo)\n",
    "                \n",
    "                if nodo:\n",
    "                    # retorna el nodo si es que existe en el árbol\n",
    "                    return nodo\n",
    "                             \n",
    "    def __repr__(self):\n",
    "        # Para visualizar el arbol redefinimos el método __repr__ para recorrer recursivamente\n",
    "        # todos los nodos del árbol.\n",
    "        \n",
    "        def recorrer_arbol(raiz):\n",
    "            for hijo in raiz.hijos.values():\n",
    "                self.ret += \"id-nodo: {} -> id_padre: {} -> valor: {}\\n\".format(hijo.id_nodo, hijo.id_padre, hijo.valor)\n",
    "                recorrer_arbol(hijo)\n",
    "                \n",
    "            return self\n",
    "\n",
    "        self.ret = 'RAIZ:\\nroot-id: {} -> valor: {}\\n\\nHIJOS:\\n'.format(self.id_nodo, self.valor)\n",
    "        recorrer_arbol(self)        \n",
    "        return self.ret"
   ]
  },
  {
   "cell_type": "markdown",
   "metadata": {},
   "source": [
    "Para crear y poblar el árbol, utilicemos el árbol de ejemplo mostrado en la siguiente figura. Cada nodo tiene el valor almacenado y su ID.\n",
    "![](img/ejemplo_arbol.png)"
   ]
  },
  {
   "cell_type": "code",
   "execution_count": 28,
   "metadata": {},
   "outputs": [
    {
     "name": "stdout",
     "output_type": "stream",
     "text": [
      "RAIZ:\n",
      "root-id: 0 -> valor: 10\n",
      "\n",
      "HIJOS:\n",
      "id-nodo: 1 -> id_padre: 0 -> valor: 8\n",
      "id-nodo: 3 -> id_padre: 1 -> valor: 4\n",
      "id-nodo: 5 -> id_padre: 3 -> valor: 1\n",
      "id-nodo: 4 -> id_padre: 1 -> valor: 9\n",
      "id-nodo: 2 -> id_padre: 0 -> valor: 12\n",
      "id-nodo: 6 -> id_padre: 2 -> valor: 18\n",
      "\n"
     ]
    }
   ],
   "source": [
    "T = Arbol(0, 10)\n",
    "T.agregar_nodo(1, 8, 0)\n",
    "T.agregar_nodo(2, 12, 0)\n",
    "T.agregar_nodo(3, 4, 1)\n",
    "T.agregar_nodo(4, 9, 1)\n",
    "T.agregar_nodo(5, 1, 3)\n",
    "T.agregar_nodo(6, 18, 2)\n",
    "\n",
    "# Desplegamos el árbol según se definió en el método __repr__\n",
    "print(T)"
   ]
  },
  {
   "cell_type": "markdown",
   "metadata": {},
   "source": [
    "Si queremos obtener un nodo específico utilizamos el método *obtener_nodo()* el que recursivamente busca por el id del nodo. En este ejemplo el método retorna todo el objeto el nodo."
   ]
  },
  {
   "cell_type": "code",
   "execution_count": 217,
   "metadata": {},
   "outputs": [
    {
     "name": "stdout",
     "output_type": "stream",
     "text": [
      "El ID del nodo es 6\n",
      "El nodo tiene 2 hijos\n"
     ]
    }
   ],
   "source": [
    "nodo = T.obtener_nodo(6)\n",
    "print('El ID del nodo es {}'.format(nodo.id_nodo))\n",
    "\n",
    "nodo = T.obtener_nodo(1)\n",
    "print('El nodo tiene {} hijos'.format(len(nodo.hijos)))\n"
   ]
  },
  {
   "cell_type": "markdown",
   "metadata": {},
   "source": [
    "## Recorrido de un Árbol\n",
    "\n",
    "El recorrido de un árbol o también conocido como <i>Tree traversal</i>, corresponde a la forma de accesar o visitar sistemáticamente todos los nodos de un árbol <b>T</b>. Existen dos formas principales: recursivas y no recursivas. Entre los métodos recursivos para visitar los nodos se encuentran: pre-order traversal y post-order traversal. Dentro de los métodos no recursivos más populares se encuentran: Breadth First Search y Depth First Search.\n",
    "\n",
    "### Recorridos Recursivos\n",
    "\n",
    "\n",
    "#### Pre-Order Traversal\n",
    "\n",
    "En esta forma de recorrer el árbol nodo raíz se visita primero, y luego su hijos son recorridos recursivamente."
   ]
  },
  {
   "cell_type": "code",
   "execution_count": 212,
   "metadata": {},
   "outputs": [
    {
     "name": "stdout",
     "output_type": "stream",
     "text": [
      "nodo_id: 0, id_padre: None -> valor: 10\n",
      "nodo_id: 1, id_padre: 0 -> valor: 8\n",
      "nodo_id: 3, id_padre: 1 -> valor: 4\n",
      "nodo_id: 5, id_padre: 3 -> valor: 1\n",
      "nodo_id: 4, id_padre: 1 -> valor: 4\n",
      "nodo_id: 2, id_padre: 0 -> valor: 12\n",
      "nodo_id: 6, id_padre: 2 -> valor: 18\n",
      "\n"
     ]
    }
   ],
   "source": [
    "class ArbolPreOrder(Arbol):\n",
    "    # Heredamos de la clase original del Arbol y hacemos override del metodo recorrer_arbol para recorrer el árbol \n",
    "    # usan do pre-order\n",
    "    def __repr__(self):        \n",
    "        def recorrer_arbol(raiz):\n",
    "            self.ret += \"nodo_id: {}, id_padre: {} -> valor: {}\\n\".format(raiz.id_nodo, raiz.id_padre, raiz.valor)\n",
    "            for hijo in raiz.hijos.values():\n",
    "                recorrer_arbol(hijo)\n",
    "            return self\n",
    "\n",
    "        self.ret = ''\n",
    "        recorrer_arbol(self)\n",
    "        \n",
    "        return self.ret\n",
    "    \n",
    "# Poblamos el árbol con los datos usados en el caso anterior de árbol\n",
    "T = ArbolPreOrder(0, 10)\n",
    "T.agregar_nodo(1, 8, 0)\n",
    "T.agregar_nodo(2, 12, 0)\n",
    "T.agregar_nodo(3, 4, 1)\n",
    "T.agregar_nodo(4, 9, 1)\n",
    "T.agregar_nodo(5, 1, 3)\n",
    "T.agregar_nodo(6, 18, 2)\n",
    "\n",
    "print(T)"
   ]
  },
  {
   "cell_type": "markdown",
   "metadata": {},
   "source": [
    "#### Post-Order Traversal\n",
    "\n",
    "En esta modalidad de recorrido primero se visita recursivamente los sub-arboles generados por los nodos hijos y finalmente el nodo raíz."
   ]
  },
  {
   "cell_type": "code",
   "execution_count": 213,
   "metadata": {},
   "outputs": [
    {
     "name": "stdout",
     "output_type": "stream",
     "text": [
      "nodo_id: 5, id_padre: 3 -> valor: 1\n",
      "nodo_id: 3, id_padre: 1 -> valor: 4\n",
      "nodo_id: 4, id_padre: 1 -> valor: 4\n",
      "nodo_id: 1, id_padre: 0 -> valor: 8\n",
      "nodo_id: 6, id_padre: 2 -> valor: 18\n",
      "nodo_id: 2, id_padre: 0 -> valor: 12\n",
      "nodo_id: 0, id_padre: None -> valor: 10\n",
      "\n"
     ]
    }
   ],
   "source": [
    "class ArbolPostOrder(Arbol):\n",
    "    # Heredamos de la clase original del Arbol e implementamos el PostOrder para el recorrido del arbol\n",
    "    def __repr__(self):\n",
    "        def recorrer_arbol(raiz):\n",
    "            # primero recorremos recursivamente los hijos\n",
    "            for hijo in raiz.hijos.values():\n",
    "                recorrer_arbol(hijo)\n",
    "            \n",
    "            # Finalmente visitamos el nodo raíz\n",
    "            self.ret += \"nodo_id: {}, id_padre: {} -> valor: {}\\n\".format(raiz.id_nodo, raiz.id_padre, raiz.valor)\n",
    "            return self\n",
    "\n",
    "        self.ret = ''\n",
    "        recorrer_arbol(self)\n",
    "        return self.ret\n",
    "    \n",
    "# Poblamos el árbol usando los mismo datos que en el caso original\n",
    "T = ArbolPostOrder(0, 10)\n",
    "T.agregar_nodo(1, 8, 0)\n",
    "T.agregar_nodo(2, 12, 0)\n",
    "T.agregar_nodo(3, 4, 1)\n",
    "T.agregar_nodo(4, 9, 1)\n",
    "T.agregar_nodo(5, 1, 3)\n",
    "T.agregar_nodo(6, 18, 2)\n",
    "\n",
    "print(T)"
   ]
  },
  {
   "cell_type": "markdown",
   "metadata": {},
   "source": [
    "### Recorridos No Recursivos\n",
    "\n",
    "En métodos recorren los nodos del árbol sin recursión utilizando otras estructuras de datos auxiliares para manejar los nodos visitados.\n",
    "\n",
    "\n",
    "#### Bread-First Search (BFS)\n",
    "\n",
    "El enfoque **Breadth First Search** consiste en recorrer el árbol por nivel, siendo primero visitados todos los nodos de más arriba en la jerarquía del árbol. Para ejecutar el recorrido utiliza una **cola** para almacenar los nodos por visitar. En estructuras jerárquicas más complejas que los árboles, como por ejemplo un grafo no dirijido, es necesario también mantener un listado de los nodos que han sido visitados y de esta forma evitar que existan loops infinitos entre nodos.\n"
   ]
  },
  {
   "cell_type": "code",
   "execution_count": 43,
   "metadata": {},
   "outputs": [
    {
     "name": "stdout",
     "output_type": "stream",
     "text": [
      "nodo_id: 0, id_padre: None -> valor: 10\n",
      "nodo_id: 1, id_padre: 0 -> valor: 8\n",
      "nodo_id: 2, id_padre: 0 -> valor: 12\n",
      "nodo_id: 3, id_padre: 1 -> valor: 4\n",
      "nodo_id: 4, id_padre: 1 -> valor: 4\n",
      "nodo_id: 6, id_padre: 2 -> valor: 18\n",
      "nodo_id: 5, id_padre: 3 -> valor: 1\n",
      "\n"
     ]
    }
   ],
   "source": [
    "from collections import deque\n",
    "\n",
    "\n",
    "class ArbolBFS(Arbol):\n",
    "    # Heredamos de la clase original del Arbol y modificamos el metodo recorrer_arbol para usar \n",
    "    # el Breadth-first Search\n",
    "    \n",
    "    def __repr__(self):\n",
    "        \n",
    "        def recorrer_arbol(raiz):\n",
    "            \n",
    "            # Utiliamos una cola para almacenar los nodos por visitar\n",
    "            Q = deque()\n",
    "            Q.append(raiz)\n",
    "            \n",
    "            # Utilizamos una lista para registrar los nodos visitados\n",
    "            visitados = []\n",
    "            \n",
    "            while len(Q) > 0:                \n",
    "                p = Q.popleft()\n",
    "                \n",
    "                if p.id_nodo not in visitados:\n",
    "                    \n",
    "                    # Revisamos si el nodo ha sido visitado. Si no ha sido visitado\n",
    "                    # lo agregamos a la lista de visitados\n",
    "                    \n",
    "                    visitados.append(p.id_nodo)\n",
    "\n",
    "                    #visitamos el nodo\n",
    "                    self.ret += \"nodo_id: {}, id_padre: {} -> valor: {}\\n\".format(\n",
    "                        p.id_nodo, p.id_padre, p.valor)\n",
    "                \n",
    "                    # Agregamos todos los nodos hijos a la cola por visitar\n",
    "                    for hijo in p.hijos.values():\n",
    "                        Q.append(hijo)\n",
    "                    \n",
    "            return self\n",
    "\n",
    "        self.ret = ''\n",
    "        recorrer_arbol(self)\n",
    "        return self.ret\n",
    "    \n",
    "# Poblamos el árbol con los datos utilizados en los casos anteriores\n",
    "T = ArbolBFS(0, 10)\n",
    "T.agregar_nodo(1, 8, 0)\n",
    "T.agregar_nodo(2, 12, 0)\n",
    "T.agregar_nodo(3, 4, 1)\n",
    "T.agregar_nodo(4, 9, 1)\n",
    "T.agregar_nodo(5, 1, 3)\n",
    "T.agregar_nodo(6, 18, 2)\n",
    "\n",
    "print(T)"
   ]
  },
  {
   "cell_type": "markdown",
   "metadata": {},
   "source": [
    "#### Depth First Search (DFS)\n",
    "\n",
    "El enfoque **Depth First Search** consiste en recorrer el árbol por profundidad, siendo primero visitados todos los nodos de más arriba en la jerarquía del árbol. Para ejecutar el recorrido utiliza una **pila** para almacenar los nodos por visitar. Al igual que en el caso de BFS, es necesario mantener un listado de los nodos que han sido visitados para evitar que existan loops infinitos entre nodos cuando recorremos estructuras jérarquicas más complejas."
   ]
  },
  {
   "cell_type": "code",
   "execution_count": 45,
   "metadata": {},
   "outputs": [
    {
     "name": "stdout",
     "output_type": "stream",
     "text": [
      "nodo_id: 0, id_padre: None -> valor: 10\n",
      "nodo_id: 2, id_padre: 0 -> valor: 12\n",
      "nodo_id: 6, id_padre: 2 -> valor: 18\n",
      "nodo_id: 1, id_padre: 0 -> valor: 8\n",
      "nodo_id: 4, id_padre: 1 -> valor: 4\n",
      "nodo_id: 3, id_padre: 1 -> valor: 4\n",
      "nodo_id: 5, id_padre: 3 -> valor: 1\n",
      "\n"
     ]
    }
   ],
   "source": [
    "from collections import deque\n",
    "\n",
    "class ArbolDFS(Arbol):\n",
    "    \n",
    "    # Heredamos de la clase original del Arbol y modificamos el metodo recorrer_arbol para usar \n",
    "    # el Depth-first Search (DFS)\n",
    "    \n",
    "    def __repr__(self):\n",
    "        \n",
    "        def recorrer_arbol(raiz):\n",
    "            \n",
    "            # En DPS utilizamos un stack para almacenar los nodos por visitar          \n",
    "            Q = deque()\n",
    "            Q.append(raiz)\n",
    "            \n",
    "            # Utilizaremos una lista para marcar los nodos visitados\n",
    "            visitados = []\n",
    "\n",
    "            while len(Q) > 0:                \n",
    "                p = Q.pop()\n",
    "                \n",
    "                if p.id_nodo not in visitados:\n",
    "                    \n",
    "                    # Revisamos si el nodo ha sido visitado. Si no ha sido visitado\n",
    "                    # lo agregamos a la lista de visitados\n",
    "                    \n",
    "                    visitados.append(p.id_nodo)\n",
    "                    \n",
    "                    self.ret += \"nodo_id: {}, id_padre: {} -> valor: {}\\n\".format(\n",
    "                        p.id_nodo, p.id_padre, p.valor)\n",
    "\n",
    "                    for hijo in p.hijos.values():\n",
    "                        Q.append(hijo)\n",
    "\n",
    "            return self\n",
    "        \n",
    "        self.ret = ''\n",
    "        recorrer_arbol(self)\n",
    "        \n",
    "        return self.ret\n",
    "    \n",
    "    \n",
    "# Poblamos el árbol con los datos utilizados en los casos anteriores\n",
    "T = ArbolDFS(0, 10)\n",
    "T.agregar_nodo(1, 8, 0)\n",
    "T.agregar_nodo(2, 12, 0)\n",
    "T.agregar_nodo(3, 4, 1)\n",
    "T.agregar_nodo(4, 9, 1)\n",
    "T.agregar_nodo(5, 1, 3)\n",
    "T.agregar_nodo(6, 18, 2)\n",
    "\n",
    "print(T)"
   ]
  },
  {
   "cell_type": "markdown",
   "metadata": {},
   "source": [
    "# Árbol Binario"
   ]
  },
  {
   "cell_type": "markdown",
   "metadata": {},
   "source": [
    "Los árboles binarios son un caso particular de las estructuras de datos tipo árbol, en donde:\n",
    "\n",
    "- cada nodo tiene como máximo dos nodos hijo\n",
    "- cada nodo hijo está etiquedado como <b>hijo-izquierdo</b> o bien <b>hijo-derecho</b>, y\n",
    "- en términos de precedencia, el hijo-izquierdo precede al hijo-derecho.\n",
    "\n",
    "En un árbol binario el máximo número de nodos crece en forma exponencial. Sea el <b>nivel</b> <i>d</i> de un arbol <b>T</b> el conjunto de todos los nodos ubicados a la misma profundidad <i>d</i>. En el nivel <i>d</i> = 0 existe a lo más el nodo raíz. El nivel <i>d</i> = 2 tiene a lo más dos nodos, y así sucesivamente. Al nivel <i>d</i>, el árbol debe tener como máximo 2<sup><i>d</i></sup> nodos. Se denomina árbol binario **completo** a aquel árbol en donde cada nodo padre del árbol presenta los dos nodos hijos, tal como se muestra en la siguiente figura.\n",
    "\n",
    "![](img/binary-tree.png)\n",
    "\n",
    "Un ejemplo real de árbol binario son los **árboles de decisión** en donde cada nodo interno y además la raíz están asociados a una pregunta, y cuyas respuestas (Si, No) quedan representadas en los dos nodos hijos. Otro ejemplo son las **operaciones artméticas**, en donde las variables son representadas por lo nodos hoja, y las operaciones por los nodos interiores."
   ]
  },
  {
   "cell_type": "markdown",
   "metadata": {},
   "source": [
    "## Árbol Binario de Estructura Enlazada"
   ]
  },
  {
   "cell_type": "markdown",
   "metadata": {},
   "source": [
    "En esta implementación de árbol binario, modelaremos cada nodo como un objeto que tendrá por atributos las referencias al nodo padre, hijos, y el elemento en esa posición. Usaremos el valor <b>None</b> para señalar que un atributos particular no existe. Por ejemplo, si se modela el nodo padre, el atributo <i>padre = None</i>. A continuación el modelamiento queda de la siguiente forma:"
   ]
  },
  {
   "cell_type": "code",
   "execution_count": 2,
   "metadata": {},
   "outputs": [
    {
     "name": "stdout",
     "output_type": "stream",
     "text": [
      "padre: None, valor: 4 -> r\n",
      "padre: 4, valor: 1 -> i\n",
      "padre: 1, valor: 3 -> d\n",
      "padre: 4, valor: 5 -> d\n",
      "padre: 5, valor: 20 -> d\n",
      "\n"
     ]
    }
   ],
   "source": [
    "class Nodo:\n",
    "    def __init__(self, valor, padre=None):\n",
    "        self.valor = valor\n",
    "        self.padre = padre\n",
    "        self.hijo_izquierdo = None\n",
    "        self.hijo_derecho = None\n",
    "\n",
    "    def __repr__(self):\n",
    "        return 'padre: {0}, valor: {1}'.format(self.padre, self.valor)\n",
    "\n",
    "\n",
    "class ArbolBinario:\n",
    "    def __init__(self, nodo_raiz=None):\n",
    "        self.nodo_raiz = nodo_raiz\n",
    "\n",
    "    def agregar_nodo(self, valor):\n",
    "        if self.nodo_raiz == None:\n",
    "            self.nodo_raiz = Nodo(valor)\n",
    "        else:\n",
    "            temp = self.nodo_raiz\n",
    "            agregado = False\n",
    "\n",
    "            while not agregado:\n",
    "                # Recursivamente recorremos el árbol revisando cada nodo usando\n",
    "                # alguna regla. En este caso si el valor del nuevo nodo es mayor \n",
    "                # o no que el valor del nodo revisado.\n",
    "                \n",
    "                if valor <= temp.valor:\n",
    "                    if temp.hijo_izquierdo == None:\n",
    "                        # Si no hay nodo izquierdo, agregamos el nuevo nodo\n",
    "                        temp.hijo_izquierdo = Nodo(valor, temp.valor)\n",
    "                        agregado = True\n",
    "                    else:\n",
    "                        # Si ya existe un nodo izquierdo seguimos revisando\n",
    "                        temp = temp.hijo_izquierdo\n",
    "                else:\n",
    "                    if temp.hijo_derecho == None:\n",
    "                        # Si no hay un nodo derecho, agregamos el valor como \n",
    "                        # un nuevo nodo\n",
    "                        temp.hijo_derecho = Nodo(valor, temp.valor)\n",
    "                        agregado = True\n",
    "                    else:\n",
    "                        # Si ya hay un nodo seguimos buscando en profundidad\n",
    "                        temp = temp.hijo_derecho\n",
    "\n",
    "    def __repr__(self):\n",
    "        def recorrer(nodo, lado=\"r\"):\n",
    "            ret = ''\n",
    "\n",
    "            if nodo != None:\n",
    "                ret += '{0} -> {1}\\n'.format(nodo, lado)\n",
    "                ret += recorrer(nodo.hijo_izquierdo, 'i')\n",
    "                ret += recorrer(nodo.hijo_derecho, 'd')\n",
    "\n",
    "            return ret\n",
    "\n",
    "        ret = recorrer(self.nodo_raiz)\n",
    "        return ret\n",
    "\n",
    "\n",
    "T = ArbolBinario()\n",
    "T.agregar_nodo(4)\n",
    "T.agregar_nodo(1)\n",
    "T.agregar_nodo(5)\n",
    "T.agregar_nodo(3)\n",
    "T.agregar_nodo(20)\n",
    "\n",
    "print(T)"
   ]
  },
  {
   "cell_type": "code",
   "execution_count": 7,
   "metadata": {},
   "outputs": [
    {
     "name": "stdout",
     "output_type": "stream",
     "text": [
      "padre: None, valor: 4 -> r\n",
      "padre: 4, valor: 1 -> i\n",
      "padre: 1, valor: 3 -> d\n",
      "padre: 4, valor: 5 -> d\n",
      "padre: 5, valor: 20 -> d\n",
      "\n"
     ]
    }
   ],
   "source": [
    "class ArbolBinarioPreOrder(ArbolBinario):\n",
    "    \n",
    "    def __repr__(self):\n",
    "        def recorrer(nodo, lado=\"r\"):\n",
    "            ret = ''\n",
    "\n",
    "            if nodo != None:\n",
    "                ret += '{0} -> {1}\\n'.format(nodo, lado)\n",
    "                ret += recorrer(nodo.hijo_izquierdo, 'i')\n",
    "                ret += recorrer(nodo.hijo_derecho, 'd')\n",
    "\n",
    "            return ret\n",
    "\n",
    "        ret = recorrer(self.nodo_raiz)\n",
    "        return ret\n",
    "\n",
    "\n",
    "T = ArbolBinarioPreOrder()\n",
    "T.agregar_nodo(4)\n",
    "T.agregar_nodo(1)\n",
    "T.agregar_nodo(5)\n",
    "T.agregar_nodo(3)\n",
    "T.agregar_nodo(20)\n",
    "\n",
    "print(T)"
   ]
  },
  {
   "cell_type": "code",
   "execution_count": 8,
   "metadata": {},
   "outputs": [
    {
     "name": "stdout",
     "output_type": "stream",
     "text": [
      "padre: 4, valor: 1 -> i\n",
      "padre: 1, valor: 3 -> d\n",
      "padre: None, valor: 4 -> r\n",
      "padre: 4, valor: 5 -> d\n",
      "padre: 5, valor: 20 -> d\n",
      "\n"
     ]
    }
   ],
   "source": [
    "class ArbolBinarioInOrder(ArbolBinario):\n",
    "    \n",
    "    def __repr__(self):\n",
    "        def recorrer(nodo, lado=\"r\"):\n",
    "            ret = ''\n",
    "\n",
    "            if nodo != None:\n",
    "                ret += recorrer(nodo.hijo_izquierdo, 'i')\n",
    "                ret += '{0} -> {1}\\n'.format(nodo, lado)\n",
    "                ret += recorrer(nodo.hijo_derecho, 'd')\n",
    "\n",
    "            return ret\n",
    "\n",
    "        ret = recorrer(self.nodo_raiz)\n",
    "        return ret\n",
    "\n",
    "\n",
    "T = ArbolBinarioInOrder()\n",
    "T.agregar_nodo(4)\n",
    "T.agregar_nodo(1)\n",
    "T.agregar_nodo(5)\n",
    "T.agregar_nodo(3)\n",
    "T.agregar_nodo(20)\n",
    "\n",
    "print(T)"
   ]
  },
  {
   "cell_type": "code",
   "execution_count": 9,
   "metadata": {},
   "outputs": [
    {
     "name": "stdout",
     "output_type": "stream",
     "text": [
      "padre: 1, valor: 3 -> d\n",
      "padre: 4, valor: 1 -> i\n",
      "padre: 5, valor: 20 -> d\n",
      "padre: 4, valor: 5 -> d\n",
      "padre: None, valor: 4 -> r\n",
      "\n"
     ]
    }
   ],
   "source": [
    "class ArbolBinarioPostOrder(ArbolBinario):\n",
    "    \n",
    "    def __repr__(self):\n",
    "        def recorrer(nodo, lado=\"r\"):\n",
    "            ret = ''\n",
    "\n",
    "            if nodo != None:\n",
    "                ret += recorrer(nodo.hijo_izquierdo, 'i')\n",
    "                ret += recorrer(nodo.hijo_derecho, 'd')\n",
    "                ret += '{0} -> {1}\\n'.format(nodo, lado)\n",
    "\n",
    "            return ret\n",
    "\n",
    "        ret = recorrer(self.nodo_raiz)\n",
    "        return ret\n",
    "\n",
    "\n",
    "T = ArbolBinarioPostOrder()\n",
    "T.agregar_nodo(4)\n",
    "T.agregar_nodo(1)\n",
    "T.agregar_nodo(5)\n",
    "T.agregar_nodo(3)\n",
    "T.agregar_nodo(20)\n",
    "\n",
    "print(T)"
   ]
  },
  {
   "cell_type": "markdown",
   "metadata": {},
   "source": [
    "# Listas Ligadas\n",
    "\n",
    "Las listas ligadas pueden ser consideradas como un caso particular de árbol. Corresponden a una secuencia de nodos, donde cada nodo posee un solo nodo del cual proviene o **nodo padre** y un solo nodo descendiente o **hijo**. El primer nodo de la lista es denominado <b>cabeza</b> (head), y el último <b>cola</b> (tail). Los nodos pueden ser modelados por un objeto cuyos atributos son: <b>valor</b> y <b>próximo</b> (next). El campo *next* contiene la referencia al siguiente nodo de la lista. En el nodo cola, el atributo next queda vacío o None.\n",
    "\n",
    "![](img/linked-list.png)\n"
   ]
  },
  {
   "cell_type": "code",
   "execution_count": 13,
   "metadata": {},
   "outputs": [
    {
     "name": "stdout",
     "output_type": "stream",
     "text": [
      "7\n",
      "4\n",
      "2->4->7->\n"
     ]
    }
   ],
   "source": [
    "class Nodo:\n",
    "    # Creamos la estructura del nodo\n",
    "    \n",
    "    def __init__(self, valor=None):\n",
    "        self.siguiente = None\n",
    "        self.valor = valor\n",
    "\n",
    "class ListaLigada:\n",
    "    def __init__(self):\n",
    "        self.cola = None\n",
    "        self.cabeza = None\n",
    "\n",
    "    def agregar_nodo(self, valor):\n",
    "        if not self.cabeza:\n",
    "            # Revisamos si el nodo cabeza tiene un nodo asignado.\n",
    "            # Si no tiene nodo, creamos un nodo\n",
    "            self.cabeza = Nodo(valor)\n",
    "            self.cola = self.cabeza\n",
    "        else:\n",
    "            # Si ya tiene un nodo\n",
    "            self.cola.siguiente = Nodo(valor)\n",
    "            self.cola = self.cola.siguiente\n",
    "\n",
    "    def obtener(self, posicion):\n",
    "        nodo = self.cabeza\n",
    "        \n",
    "        for i in range(posicion):\n",
    "            if nodo:\n",
    "                nodo = nodo.siguiente\n",
    "        if not nodo:\n",
    "            return \"posicion no encontrada\"\n",
    "        else:\n",
    "            return nodo.valor\n",
    "\n",
    "    def __repr__(self):\n",
    "        rep = ''\n",
    "        nodo_actual = self.cabeza\n",
    "        \n",
    "        while nodo_actual:\n",
    "            rep += '{0}->'.format(nodo_actual.valor)\n",
    "            nodo_actual = nodo_actual.siguiente\n",
    "        \n",
    "        return rep\n",
    "    \n",
    "l = ListaLigada()\n",
    "l.agregar_nodo(2)\n",
    "l.agregar_nodo(4)\n",
    "l.agregar_nodo(7)\n",
    "\n",
    "print(l.obtener(2))\n",
    "print(l.obtener(1))\n",
    "\n",
    "print(l)"
   ]
  },
  {
   "cell_type": "markdown",
   "metadata": {},
   "source": [
    "<font size='1' face='Arial'><sup>1</sup>Agradecemos a los ayudantes del curso Belén Saldías, Ivania Donoso, Patricio López, Jaime Castro, Rodrigo Gómez y Marco Bucchi por su colaboración durante la revisión de este material.</font>"
   ]
  }
 ],
 "metadata": {
  "anaconda-cloud": {},
  "kernelspec": {
   "display_name": "Python 3",
   "language": "python",
   "name": "python3"
  },
  "language_info": {
   "codemirror_mode": {
    "name": "ipython",
    "version": 3
   },
   "file_extension": ".py",
   "mimetype": "text/x-python",
   "name": "python",
   "nbconvert_exporter": "python",
   "pygments_lexer": "ipython3",
   "version": "3.6.4"
  }
 },
 "nbformat": 4,
 "nbformat_minor": 1
}
